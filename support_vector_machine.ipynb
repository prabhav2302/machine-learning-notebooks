{
 "cells": [
  {
   "cell_type": "markdown",
   "metadata": {},
   "source": [
    "# Support Vector Machines (SVM) - Hard Margin Case\n",
    "---\n",
    "Recall the binary classification problem that SVMs try to solve. The hard margin SVM finds the seperating decision bounary with the largest margin. \n",
    "\n",
    "<img src=\"MaxMargin.jpg\" height=\"400\" width=\"400\">\n",
    "\n",
    "In this assigment, you will write the code to find the maximum margin for the hard margin case.\n",
    "\n",
    "We showed in class that we could solve this problem  by reducing it to the problem of solving a quadratic programming problem (QP).  There are many solvers for quadratic programming problems. We will use the *Convex Optimization Library*, [CVXOPT](https://cvxopt.org/userguide/coneprog.html#quadratic-programming); a free software package that works well with Python and numpy. \n",
    "You will need to install [CVXOPT](https://cvxopt.org/install/)\n",
    "\n",
    "In CVXOPT, the quadratic programming problem solver, <b><i>cvxopt.solvers.qp</i></b>,  solves the following problem:\n",
    "\n",
    "$$\\begin{eqnarray} \\min_{x}\\frac{1}{2} x^{T}Px - q^{T}x \\nonumber \\\\\\ \\textrm{s.t.}\\quad Gx \\preceq h \\\\\\ \\textrm{and}\\quad Ax = b \\end{eqnarray}$$\n",
    "\n",
    " Note that $ Gx \\preceq h $ is taken elementwise. \n",
    "\n",
    "The solver's (simplified) API is `cvxopt.solvers.qp(P, q, G, h, A, b)` \n",
    "where only $P$ and $q$ are required. \n",
    "\n",
    "You will need to match the solver's API.\n",
    "\n",
    "The solver's argument's type must be CVXOPT matrices. I suggest you first create the arguments as NumpPy arrays and matrices and then convert them to CVXOPT matrices (For example, first import the library: `from cvxopt import matrix` then convert a NumPy matrix `P` to a CVXOPT matrix using ` P = matrix(P)`)\n",
    "\n",
    "What is return by the solver  is a Python dictionary.  If you save the return value in a variable called `sol` (i.e. `sol = solvers.qp(...)`), you can access to the solution of the quadratic programming problem by typing `sol[\"x\"]`.\n"
   ]
  },
  {
   "cell_type": "markdown",
   "metadata": {},
   "source": [
    "# Hard Margin Case"
   ]
  },
  {
   "cell_type": "code",
   "execution_count": 7,
   "metadata": {},
   "outputs": [
    {
     "data": {
      "image/png": "[encoded data removed]",
      "text/plain": [
       "<Figure size 432x288 with 1 Axes>"
      ]
     },
     "metadata": {
      "needs_background": "light"
     },
     "output_type": "display_data"
    }
   ],
   "source": [
    "import numpy as np\n",
    "import csv\n",
    "from numpy import genfromtxt\n",
    "import matplotlib.pyplot as plt\n",
    "from cvxopt import matrix, solvers\n",
    "import cvxopt\n",
    "%matplotlib inline\n",
    "\n",
    "# SVM explanation:\n",
    "# https://medium.com/@zachary.bedell/support-vector-machines-explained-73f4ec363f13\n",
    "\n",
    "# Use numpy function genfromtxt(…, delimiter=…) to load from files.\n",
    "\n",
    "# Store the data from “X.csv” to X and target from “y.csv” to y\n",
    "X = genfromtxt('X.csv',delimiter = ',')\n",
    "y = genfromtxt('y.csv',delimiter = ',')\n",
    "\n",
    "# Use np.where to find all index of data which y=1 and store them to idx_1\n",
    "idx_1 = np.where( y == 1)\n",
    "\n",
    "# same as y=-1, store them to idx_2\n",
    "idx_2 = np.where(y == -1)\n",
    "\n",
    "# make the plot use plt.scatter(X[idx_1,0], X[idx_1,1], s=30, c='b', marker=\"o\")\n",
    "def plot_data(X,y,idx_1,idx_2):\n",
    "  plt.scatter(X[idx_1,0], X[idx_1,1], s=30, c='b', marker=\"o\")\n",
    "  plt.scatter(X[idx_2,0],X[idx_2,1],s=30,c='r',marker = \"o\")\n",
    "  plt.xlabel(\"x1\")\n",
    "  plt.ylabel(\"x2\")\n",
    "\n",
    "plot_data(X,y,idx_1,idx_2)\n",
    "# Set the x label with x1 and y label with x2\n",
    "\n",
    "# plt.show()"
   ]
  },
  {
   "cell_type": "markdown",
   "metadata": {},
   "source": [
    "## SVM Primal  Problem\n",
    "---\n",
    "### Problem 1.1\n",
    "![qp.png](attachment:qp.png)\n",
    "You will now use the quadratic problem solver to find the maximum margin for the SVM primal problem:\n",
    "\n",
    "$$\\begin{eqnarray}\\left.\\begin{aligned}  \n",
    "&\\min_{w}\\frac{1}{2}||w||^{2} & \\nonumber \\\\\\ \n",
    "&\\textrm{s.t.}  \\quad y^{(i)}(w^{T}{\\bf x}^{(i)} + w_0) \\ge 1 \\quad \\forall i \\end{aligned}\\right.\\end{eqnarray}$$\n",
    "\n",
    "\n",
    "Look back at the lecture notes for the primal problem.  Please note that the variable names used in the lecture are different from the variable names given to decribe the API for CVXOPT's quadratic problem solver.\n"
   ]
  },
  {
   "cell_type": "code",
   "execution_count": 8,
   "metadata": {},
   "outputs": [
    {
     "name": "stdout",
     "output_type": "stream",
     "text": [
      "Weights:\n",
      " [[ 0.46118099]\n",
      " [ 1.42189318]\n",
      " [-1.58830104]]\n"
     ]
    }
   ],
   "source": [
    "def linear_svm(X,y):\n",
    "    solvers.options['show_progress'] = False\n",
    "    \n",
    "#     store the shape of X to two variables: N,F\n",
    "    N,F = X.shape\n",
    "\n",
    "#     create the Identity matrix using np.diag and np.ones\n",
    "    I = np.identity(F)     \n",
    "\n",
    "#     create the Q matrix using np.zeros\n",
    "    Q = np.zeros((F+1,F+1))\n",
    "\n",
    "#     for each element in Q:\n",
    "    i = 1\n",
    "    for row in range (F+1):\n",
    "      for column in range(F+1):\n",
    "        if i:\n",
    "          # when row number is 0, set Q[row, col]=0\n",
    "          if row == 0:\n",
    "            Q[row,column]=0\n",
    "          #when col number is 0 set Q[row,col]=0\n",
    "          elif column == 0:\n",
    "            Q[row,column]=0\n",
    "          # else, compute Identity [row-1,col-1] and set it to Q[row,col]\n",
    "          else:\n",
    "            identity_shape = Q[row:,column:].shape\n",
    "            identity = np.zeros(identity_shape)\n",
    "            np.fill_diagonal(identity,1)\n",
    "            Q[row:,column:] = identity\n",
    "            i = 0\n",
    "    \n",
    "    # use cvxopt.matrix to create a new variable p with value Q\n",
    "    P = cvxopt.matrix(Q)\n",
    "    \n",
    "    # use cvxopt.matrix to create a new variable q with value np.zeros(F+1)\n",
    "    q = cvxopt.matrix(np.zeros(F+1))\n",
    "\n",
    "    # create an empty list\n",
    "    empty_list = []\n",
    "\n",
    "    for n in range(N):\n",
    "      # create a zero matric with size F+1\n",
    "      zero_matrix = np.zeros(F+1)\n",
    "      # for each element in the matric above:\n",
    "      for element in range(F+1):\n",
    "        # when the index=0, then set it to 1\n",
    "        if element == 0:\n",
    "          zero_matrix[element] = 1\n",
    "        #  else, set the value to X[n].T[i-1]\n",
    "        else:\n",
    "          zero_matrix[element] = X[n].T[element-1]\n",
    "      #  append the y[n]*updated matric to the empty list above (the one above the for loop\n",
    "      empty_list.append(y[n]*zero_matrix)   \n",
    "    # change the empty list to the np array and times -1\n",
    "    empty_list = -1 * np.array(empty_list)\n",
    "\n",
    "    # use cvxopt.matrix to convert above np array and store it in a variable: G\n",
    "    G = cvxopt.matrix(empty_list)\n",
    "    # create a variable named h with value np.ones(N)*-1 and convert it to cvxopt\n",
    "    h = cvxopt.matrix(np.ones(N)*-1)\n",
    "    # solve the primal using cvxopt.solvers.qp\n",
    "    primal = cvxopt.solvers.qp(P,q,G,h)\n",
    "    #  return the answer.\n",
    "    return primal\n",
    "\n",
    "\n",
    "# fit svm classifier\n",
    "solution = linear_svm(X,y)\n",
    "w = np.array(solution['x'])\n",
    "print('Weights:\\n',w)"
   ]
  },
  {
   "cell_type": "markdown",
   "metadata": {},
   "source": [
    "### Plotting the  decision boundary"
   ]
  },
  {
   "cell_type": "code",
   "execution_count": 12,
   "metadata": {},
   "outputs": [
    {
     "data": {
      "image/png": "[encoded data removed]",
      "text/plain": [
       "<Figure size 432x288 with 1 Axes>"
      ]
     },
     "metadata": {
      "needs_background": "light"
     },
     "output_type": "display_data"
    }
   ],
   "source": [
    "def plot_data_with_decision_boundary(X, y, w, fig_size=(15, 9), labels=['x1', 'x2']):\n",
    "#     plot the dataset\n",
    "  plot_data(X,y,idx_1,idx_2)\n",
    "\n",
    "#     find the slope of the decision boundary\n",
    "  slope = - w[1] / w[2]\n",
    "\n",
    "#     find the intercept.\n",
    "  y_intercept = -w[0] / w[2]\n",
    "\n",
    "#     generate several x values np.arrange()\n",
    "  x_values = np.arange(0, 6)\n",
    "\n",
    "#     calculate its y values using intercept and slope\n",
    "  y_values= x_values * slope + y_intercept\n",
    "\n",
    "#     plot a line\n",
    "  plt.plot(x_values,y_values,c=\"black\")\n",
    "\n",
    "\n",
    "# plotting the points and decision boundary using the above function   \n",
    "plot_data_with_decision_boundary(X,y,w)"
   ]
  },
  {
   "cell_type": "markdown",
   "metadata": {},
   "source": [
    "Determine which points are closest to the decision boundary. What is the functional margin of the points closest to the decision boundary?   "
   ]
  },
  {
   "cell_type": "code",
   "execution_count": 19,
   "metadata": {},
   "outputs": [
    {
     "name": "stdout",
     "output_type": "stream",
     "text": [
      "The Margin is: 0.9381836869408985\n",
      "Points that are closest to decision boundary are: \n",
      "Points Index:  [68 49 25]\n",
      "Points: \n",
      "Point 1 [1.71138733 2.45204836]\n",
      "Point 2 [2.51879639 1.91565724]\n",
      "Point 3 [2.11457352 1.5537852 ]\n"
     ]
    }
   ],
   "source": [
    "# calculate distance from each point to the decision boundary\n",
    "\n",
    "# find the nearest data points and its index.\n",
    "\n",
    "w_0 = w[0]\n",
    "w_1 = w[1]\n",
    "w_2 = w[2]\n",
    "w_magnitude_sqrd= (w_1**2)+(w_2**2)\n",
    "w_array = []\n",
    "w_array.append(w1)\n",
    "w_array.append(w2)\n",
    "w_array = np.array(w_array)\n",
    "r_values_list = []\n",
    "for point in X:\n",
    "  r = (w_array.T.dot(point.reshape(2,1)) + w0)/w_magnitude_sqrd\n",
    "  r_values_list.append(r.tolist()[0][0])\n",
    "r_values_list = np.abs(r_values_list)\n",
    "index_smallest = np.argpartition(r_values_list,3)[:3]\n",
    "margin = 2/((w_magnitude_sqrd)**(1/2))\n",
    "print(\"The Margin is:\",margin[0])\n",
    "print(\"Points that are closest to decision boundary are: \")\n",
    "print(\"Points Index: \",index_smallest)\n",
    "print(\"Points: \")\n",
    "print(\"Point 1\",X[index_smallest[0]])\n",
    "print(\"Point 2\",X[index_smallest[1]])\n",
    "print(\"Point 3\",X[index_smallest[2]])\n"
   ]
  },
  {
   "cell_type": "markdown",
   "metadata": {},
   "source": [
    "Write the decision function $f_{\\texttt{primal}}({\\bf x})$ to predict examples.  Use this function to predict the label of $(3.0, 1.5)^T$ and $(1.2, 3.0)^T$"
   ]
  },
  {
   "cell_type": "code",
   "execution_count": 26,
   "metadata": {},
   "outputs": [
    {
     "data": {
      "text/plain": [
       "<matplotlib.collections.PathCollection at 0x11219f850>"
      ]
     },
     "execution_count": 26,
     "metadata": {},
     "output_type": "execute_result"
    },
    {
     "data": {
      "image/png": "[encoded data removed]",
      "text/plain": [
       "<Figure size 432x288 with 1 Axes>"
      ]
     },
     "metadata": {
      "needs_background": "light"
     },
     "output_type": "display_data"
    }
   ],
   "source": [
    "def f_primal(x):\n",
    "#     return the predicted value using svm primal\n",
    "  x = np.array(x)\n",
    "  y = w_array.T.dot(x.reshape(2,1))+w0\n",
    "  if (y >= 1):\n",
    "    return 'b'\n",
    "  else:\n",
    "    return 'r'\n",
    "\n",
    "# using f_ primal() to predict (3.0, 1.5) and (1.2, 3.0) and plot the figure.\n",
    "\n",
    "point_1 = [3.0,1.5]\n",
    "point_2 = [1.2,3.0]\n",
    "p1_label = f_primal(point_1)\n",
    "p2_label = f_primal(point_2)\n",
    "plt.scatter(point_1[0], point_1[1], s=30, c=p1_label, marker=\"o\")\n",
    "plt.scatter(point_2[0], point_2[1], s=30, c=p2_label, marker=\"o\")"
   ]
  },
  {
   "cell_type": "code",
   "execution_count": null,
   "metadata": {},
   "outputs": [],
   "source": []
  }
 ],
 "metadata": {
  "kernelspec": {
   "display_name": "Python 3",
   "language": "python",
   "name": "python3"
  },
  "language_info": {
   "codemirror_mode": {
    "name": "ipython",
    "version": 3
   },
   "file_extension": ".py",
   "mimetype": "text/x-python",
   "name": "python",
   "nbconvert_exporter": "python",
   "pygments_lexer": "ipython3",
   "version": "3.7.6"
  }
 },
 "nbformat": 4,
 "nbformat_minor": 2
}
