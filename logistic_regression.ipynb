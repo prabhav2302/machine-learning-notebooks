{
 "cells": [
  {
   "cell_type": "markdown",
   "metadata": {},
   "source": [
    "# Logistic Regression \n",
    "\n",
    "In the assignment, you will use gradient ascent to find the weights for the logistic regression.   \n",
    "\n",
    "As an example, we will use the widely-used breast cancer data set.  This data set is described here:\n",
    "\n",
    "https://archive.ics.uci.edu/ml/machine-learning-databases/breast-cancer-wisconsin\n"
   ]
  },
  {
   "cell_type": "markdown",
   "metadata": {},
   "source": [
    "## Step 1:  Getting, preprocessing, and understanding the dataset"
   ]
  },
  {
   "cell_type": "markdown",
   "metadata": {},
   "source": [
    "### Importing the standard libraries"
   ]
  },
  {
   "cell_type": "code",
   "execution_count": 1343,
   "metadata": {},
   "outputs": [],
   "source": [
    "# Importing important libraries\n",
    "# Import breastcancer dataset\n",
    "# Import preprocessing from sklearn\n",
    "# Import train_test_split from sklearn\n",
    "# Import numpy,math\n",
    "import numpy as np\n",
    "import sklearn\n",
    "from sklearn.datasets import load_breast_cancer\n",
    "from sklearn.preprocessing import PolynomialFeatures\n",
    "from sklearn import preprocessing\n",
    "from sklearn.model_selection import train_test_split\n",
    "import sklearn.linear_model\n",
    "from sklearn.model_selection import KFold\n",
    "import matplotlib.pyplot as plt"
   ]
  },
  {
   "cell_type": "markdown",
   "metadata": {},
   "source": [
    "### Importing the dataset"
   ]
  },
  {
   "cell_type": "code",
   "execution_count": 1344,
   "metadata": {},
   "outputs": [],
   "source": [
    "# Load dataset to a python variable cancer\n",
    "# Store target to a variable called y\n",
    "# Store feature to a variable called X\n",
    "cancer = load_breast_cancer()\n",
    "X = cancer.data\n",
    "y = cancer.target"
   ]
  },
  {
   "cell_type": "code",
   "execution_count": 1345,
   "metadata": {
    "scrolled": true
   },
   "outputs": [
    {
     "name": "stdout",
     "output_type": "stream",
     "text": [
      "(569, 30)\n",
      "(569,)\n"
     ]
    }
   ],
   "source": [
    "# Printing the shape of data (X) and target (Y) values \n",
    "print(X.shape)\n",
    "print(y.shape)"
   ]
  },
  {
   "cell_type": "markdown",
   "metadata": {},
   "source": [
    "### Data Pre-Processing\n",
    "#### Splitting the data into train and test before scaling the dataset\n"
   ]
  },
  {
   "cell_type": "code",
   "execution_count": 1346,
   "metadata": {},
   "outputs": [],
   "source": [
    "# Use train_test_split() function to split the dataset\n",
    "# Store the return value of pervious step to X_train, X_test, y_train, y_test\n",
    "X_train, X_test, y_train, y_test = train_test_split(X,y)\n",
    "\n"
   ]
  },
  {
   "cell_type": "markdown",
   "metadata": {},
   "source": [
    "#### Scale the data since we will be using gradient ascent"
   ]
  },
  {
   "cell_type": "code",
   "execution_count": 1347,
   "metadata": {},
   "outputs": [],
   "source": [
    "# Find the scaler of the dataset by using preprocessing.StandardScaler().fit()\n",
    "# Using this scale to scale the X_train and X_test using .transform()\n",
    "scaler = preprocessing.StandardScaler().fit(X_train)\n",
    "X_train = scaler.transform(X_train)\n",
    "X_test = scaler.transform(X_test)\n"
   ]
  },
  {
   "cell_type": "code",
   "execution_count": 1348,
   "metadata": {},
   "outputs": [
    {
     "name": "stdout",
     "output_type": "stream",
     "text": [
      "(426, 30)\n",
      "(426,)\n"
     ]
    }
   ],
   "source": [
    "# TODO - Print the shape of x_train and y_train \n",
    "print(X_train.shape) # It should print (426, 30)\n",
    "print(y_train.shape) # It should print (426,)"
   ]
  },
  {
   "cell_type": "markdown",
   "metadata": {},
   "source": [
    "#### Adding a column of ones to the  matrices $X_{train}$ and  $X_{test}$\n",
    "After adding a column of ones $X_{train}=\\left[\\begin{matrix}\n",
    "1& x^{(1)}_1& x^{(1)}_2 &\\ldots& x^{(1)}_d\\\\\n",
    "1& x^{(2)}_1& x^{(2)}_2 &\\ldots& x^{(2)}_d\\\\\n",
    "\\vdots & \\vdots &\\vdots & & \\vdots \\\\\n",
    "1& x^{(N')}_1& x^{(N')}_2 &\\ldots& x^{(N')}_d\\\\\n",
    "\\end{matrix}\\right]$\n",
    "\n",
    "Similarly for $X_{test}$"
   ]
  },
  {
   "cell_type": "code",
   "execution_count": 1349,
   "metadata": {},
   "outputs": [
    {
     "name": "stdout",
     "output_type": "stream",
     "text": [
      "The training data has dimensions:  (426, 31) . The testing data has dimensions:  (143, 31)\n",
      "[[ 1.         -0.16007677 -0.05964709 -0.1460542  -0.26472754  0.64835642\n",
      "   0.18284302 -0.05093895  0.11922546 -0.03663265 -0.30765877 -0.72430557\n",
      "   0.25666174 -0.70507096 -0.47891641 -0.53359872 -0.35183811  0.02718785\n",
      "   0.27918718 -0.89241677 -0.55188077 -0.28462516  0.29043696 -0.2791337\n",
      "  -0.34797404  0.43850818  0.0072735   0.32014789  0.46319471 -0.38688627\n",
      "  -0.41772679]\n",
      " [ 1.         -0.86474728 -0.97165888 -0.86762572 -0.80369536 -1.20233235\n",
      "  -0.66326766 -0.69239882 -0.74847364  0.69866639 -0.07442638 -0.92268026\n",
      "  -0.30686428 -0.8322082  -0.66772095 -0.58233308 -0.38310943 -0.55336123\n",
      "  -0.81719919 -0.20154802 -0.76946957 -0.85193639 -0.74056029 -0.807946\n",
      "  -0.75964556 -1.02872269 -0.3786701  -0.58020416 -0.72828815  0.50114099\n",
      "  -0.64701182]]\n"
     ]
    }
   ],
   "source": [
    "# Create a column vector of ones by using np.ones and reshape\n",
    "# Append a column of ones to x_train \n",
    "# Append a column of ones in the beginning of x_train by using np.hstack\n",
    "\n",
    "bias_column_train = np.ones((X_train.shape[0],1))\n",
    "X_train = np.c_[bias_column, X_train]\n",
    "\n",
    "# Now do the same for the test data\n",
    "bias_column_test = np.ones((X_test.shape[0],1))\n",
    "X_test = np.c_[bias_column_test, X_test]\n",
    "\n",
    "# We can check that everything worked correctly by:\n",
    "# Printing out the new dimensions\n",
    "print(\"The training data has dimensions: \", X_train.shape, \". The testing data has dimensions: \",X_test.shape)\n",
    "# # Looking at the first two rows of X_train to check everything worked as expected\n",
    "print(X_train[0:2])"
   ]
  },
  {
   "cell_type": "markdown",
   "metadata": {},
   "source": [
    "### Understanding the dataset"
   ]
  },
  {
   "cell_type": "code",
   "execution_count": 1350,
   "metadata": {},
   "outputs": [
    {
     "name": "stdout",
     "output_type": "stream",
     "text": [
      "['mean radius' 'mean texture' 'mean perimeter' 'mean area'\n",
      " 'mean smoothness' 'mean compactness' 'mean concavity'\n",
      " 'mean concave points' 'mean symmetry' 'mean fractal dimension'\n",
      " 'radius error' 'texture error' 'perimeter error' 'area error'\n",
      " 'smoothness error' 'compactness error' 'concavity error'\n",
      " 'concave points error' 'symmetry error' 'fractal dimension error'\n",
      " 'worst radius' 'worst texture' 'worst perimeter' 'worst area'\n",
      " 'worst smoothness' 'worst compactness' 'worst concavity'\n",
      " 'worst concave points' 'worst symmetry' 'worst fractal dimension']\n"
     ]
    }
   ],
   "source": [
    "# Printing the names of all the features\n",
    "print(cancer.feature_names)"
   ]
  },
  {
   "cell_type": "code",
   "execution_count": 1351,
   "metadata": {},
   "outputs": [
    {
     "data": {
      "text/plain": [
       "'.. _breast_cancer_dataset:\\n\\nBreast cancer wisconsin (diagnostic) dataset\\n--------------------------------------------\\n\\n**Data Set Characteristics:**\\n\\n    :Number of Instances: 569\\n\\n    :Number of Attributes: 30 numeric, predictive attributes and the class\\n\\n    :Attribute Information:\\n        - radius (mean of distances from center to points on the perimeter)\\n        - texture (standard deviation of gray-scale values)\\n        - perimeter\\n        - area\\n        - smoothness (local variation in radius lengths)\\n        - compactness (perimeter^2 / area - 1.0)\\n        - concavity (severity of concave portions of the contour)\\n        - concave points (number of concave portions of the contour)\\n        - symmetry \\n        - fractal dimension (\"coastline approximation\" - 1)\\n\\n        The mean, standard error, and \"worst\" or largest (mean of the three\\n        largest values) of these features were computed for each image,\\n        resulting in 30 features.  For instance, field 3 is Mean Radius, field\\n        13 is Radius SE, field 23 is Worst Radius.\\n\\n        - class:\\n                - WDBC-Malignant\\n                - WDBC-Benign\\n\\n    :Summary Statistics:\\n\\n    ===================================== ====== ======\\n                                           Min    Max\\n    ===================================== ====== ======\\n    radius (mean):                        6.981  28.11\\n    texture (mean):                       9.71   39.28\\n    perimeter (mean):                     43.79  188.5\\n    area (mean):                          143.5  2501.0\\n    smoothness (mean):                    0.053  0.163\\n    compactness (mean):                   0.019  0.345\\n    concavity (mean):                     0.0    0.427\\n    concave points (mean):                0.0    0.201\\n    symmetry (mean):                      0.106  0.304\\n    fractal dimension (mean):             0.05   0.097\\n    radius (standard error):              0.112  2.873\\n    texture (standard error):             0.36   4.885\\n    perimeter (standard error):           0.757  21.98\\n    area (standard error):                6.802  542.2\\n    smoothness (standard error):          0.002  0.031\\n    compactness (standard error):         0.002  0.135\\n    concavity (standard error):           0.0    0.396\\n    concave points (standard error):      0.0    0.053\\n    symmetry (standard error):            0.008  0.079\\n    fractal dimension (standard error):   0.001  0.03\\n    radius (worst):                       7.93   36.04\\n    texture (worst):                      12.02  49.54\\n    perimeter (worst):                    50.41  251.2\\n    area (worst):                         185.2  4254.0\\n    smoothness (worst):                   0.071  0.223\\n    compactness (worst):                  0.027  1.058\\n    concavity (worst):                    0.0    1.252\\n    concave points (worst):               0.0    0.291\\n    symmetry (worst):                     0.156  0.664\\n    fractal dimension (worst):            0.055  0.208\\n    ===================================== ====== ======\\n\\n    :Missing Attribute Values: None\\n\\n    :Class Distribution: 212 - Malignant, 357 - Benign\\n\\n    :Creator:  Dr. William H. Wolberg, W. Nick Street, Olvi L. Mangasarian\\n\\n    :Donor: Nick Street\\n\\n    :Date: November, 1995\\n\\nThis is a copy of UCI ML Breast Cancer Wisconsin (Diagnostic) datasets.\\nhttps://goo.gl/U2Uwz2\\n\\nFeatures are computed from a digitized image of a fine needle\\naspirate (FNA) of a breast mass.  They describe\\ncharacteristics of the cell nuclei present in the image.\\n\\nSeparating plane described above was obtained using\\nMultisurface Method-Tree (MSM-T) [K. P. Bennett, \"Decision Tree\\nConstruction Via Linear Programming.\" Proceedings of the 4th\\nMidwest Artificial Intelligence and Cognitive Science Society,\\npp. 97-101, 1992], a classification method which uses linear\\nprogramming to construct a decision tree.  Relevant features\\nwere selected using an exhaustive search in the space of 1-4\\nfeatures and 1-3 separating planes.\\n\\nThe actual linear program used to obtain the separating plane\\nin the 3-dimensional space is that described in:\\n[K. P. Bennett and O. L. Mangasarian: \"Robust Linear\\nProgramming Discrimination of Two Linearly Inseparable Sets\",\\nOptimization Methods and Software 1, 1992, 23-34].\\n\\nThis database is also available through the UW CS ftp server:\\n\\nftp ftp.cs.wisc.edu\\ncd math-prog/cpo-dataset/machine-learn/WDBC/\\n\\n.. topic:: References\\n\\n   - W.N. Street, W.H. Wolberg and O.L. Mangasarian. Nuclear feature extraction \\n     for breast tumor diagnosis. IS&T/SPIE 1993 International Symposium on \\n     Electronic Imaging: Science and Technology, volume 1905, pages 861-870,\\n     San Jose, CA, 1993.\\n   - O.L. Mangasarian, W.N. Street and W.H. Wolberg. Breast cancer diagnosis and \\n     prognosis via linear programming. Operations Research, 43(4), pages 570-577, \\n     July-August 1995.\\n   - W.H. Wolberg, W.N. Street, and O.L. Mangasarian. Machine learning techniques\\n     to diagnose breast cancer from fine-needle aspirates. Cancer Letters 77 (1994) \\n     163-171.'"
      ]
     },
     "execution_count": 1351,
     "metadata": {},
     "output_type": "execute_result"
    }
   ],
   "source": [
    "# You can add your own code here to better understand the dataset\n",
    "# The data set has a key called DESCR which gives us an overview of the dataset and its features.\n",
    "#   we can simply call the key and get a good understanding of the dataset.\n",
    "cancer.DESCR\n"
   ]
  },
  {
   "cell_type": "markdown",
   "metadata": {},
   "source": [
    "\n",
    " Before writing the gradient ascent code, first write some helpful functions"
   ]
  },
  {
   "cell_type": "markdown",
   "metadata": {},
   "source": [
    "\n",
    " \n",
    "### Sigmoid($z$)\n",
    "The first function you will write is sigmoid($z$)\n",
    "\n",
    "sigmoid($z$) takes as input a column vector of real numbers, $z^T = [z_1, z_2, ..., z_{N'}]$, where $N'$ is the number of  examples\n",
    "\n",
    "It should produce as output a column vector $\\left[\\frac{1}{1+e^{-z_1}},\\frac{1}{1+e^{-z_2}},...,\\frac{1}{1+e^{-z_{N'}}}\\right]^T$"
   ]
  },
  {
   "cell_type": "code",
   "execution_count": 1352,
   "metadata": {},
   "outputs": [],
   "source": [
    "# Write the sigmoid function\n",
    "def sigmoid(z):\n",
    "    output =(1 / (1+np.exp(-z))) \n",
    "    return output\n"
   ]
  },
  {
   "cell_type": "markdown",
   "metadata": {},
   "source": [
    "### Initializing ${\\bf w}$\n",
    "For testing the next functions, we create a coefficient vector, ${\\bf w}$.\n",
    "We will initialize the coeffients to be $0$, i.e. ${\\bf w}^T = [0,0,\\ldots ,0]$ (We could have initialized ${\\bf w}$ to any values.)"
   ]
  },
  {
   "cell_type": "code",
   "execution_count": 1353,
   "metadata": {},
   "outputs": [
    {
     "name": "stdout",
     "output_type": "stream",
     "text": [
      "[[0.]\n",
      " [0.]\n",
      " [0.]\n",
      " [0.]\n",
      " [0.]\n",
      " [0.]\n",
      " [0.]\n",
      " [0.]\n",
      " [0.]\n",
      " [0.]\n",
      " [0.]\n",
      " [0.]\n",
      " [0.]\n",
      " [0.]\n",
      " [0.]\n",
      " [0.]\n",
      " [0.]\n",
      " [0.]\n",
      " [0.]\n",
      " [0.]\n",
      " [0.]\n",
      " [0.]\n",
      " [0.]\n",
      " [0.]\n",
      " [0.]\n",
      " [0.]\n",
      " [0.]\n",
      " [0.]\n",
      " [0.]\n",
      " [0.]\n",
      " [0.]]\n"
     ]
    }
   ],
   "source": [
    "# Initialize w using np.zeros()\n",
    "w = np.zeros((X_train.shape[1],1))\n",
    "print(w)\n"
   ]
  },
  {
   "cell_type": "markdown",
   "metadata": {},
   "source": [
    "### Our hypothesis, $h({\\bf x})$\n",
    "The next  function to write is our hypothesis function. \n",
    "\n",
    "For example if our design matrix $X$ consists of single example $X=[1,x_1,x_2,\\ldots,x_d]$ and  weights ${\\bf w}^T=[w_0,w_2,\\ldots, w_d]$, it returns $h({\\bf x})=\\frac{1}{1+e^{-\\left({w_{0}\\cdot 1 +w_1\\cdot x_1+\\cdots w_d\\cdot x_d}\\right)}}$\n",
    "\n",
    "If given a  matrix consisting of $N'$ examples \n",
    "$X=\\left[\\begin{matrix}\n",
    "1& x^{(1)}_1& x^{(1)}_2 &\\ldots& x^{(1)}_d\\\\\n",
    "1& x^{(2)}_1& x^{(2)}_2 &\\ldots& x^{(2)}_d\\\\\n",
    "\\vdots & \\vdots &\\vdots & & \\vdots \\\\\n",
    "1& x^{(N')}_1& x^{(N')}_2 &\\ldots& x^{(N')}_d\\\\\n",
    "\\end{matrix}\\right]$\n",
    "and  weights ${\\bf w}^T=[w_0,w_2,\\ldots, w_d]$, the function returns a column vector\n",
    "$[h({\\bf x}^{(1)}),h({\\bf x}^{(2)},\\ldots, h({\\bf x}^{(N')}]^T$"
   ]
  },
  {
   "cell_type": "code",
   "execution_count": 1354,
   "metadata": {},
   "outputs": [],
   "source": [
    "# Predict the probability that a patient has cancer \n",
    "# Write the hypothesis function \n",
    "def hypothesis(X , w):\n",
    "    output = sigmoid(X.dot(w))\n",
    "    return output\n",
    "\n"
   ]
  },
  {
   "cell_type": "markdown",
   "metadata": {},
   "source": [
    "# Log-Likelihood Function.\n",
    "Write the code to calculate the log likelihood function $\\ell({\\bf w})=\n",
    "\\sum_{i=1}^{N'}y^{(i)}\\ln(h({\\bf x}^{(i)})) +(1- y^{(i)})\\ln(1-h({\\bf x}^{(i)}))$\n",
    "\n",
    "The input is a matrix consisting of $N'$ examples $X=\\left[\\begin{matrix}\n",
    "1& x^{(1)}_1& x^{(1)}_2 &\\ldots& x^{(1)}_d\\\\\n",
    "1& x^{(2)}_1& x^{(2)}_2 &\\ldots& x^{(2)}_d\\\\\n",
    "\\vdots & \\vdots &\\vdots & & \\vdots \\\\\n",
    "1& x^{(N')}_1& x^{(N')}_2 &\\ldots& x^{(N')}_d\\\\\n",
    "\\end{matrix}\\right]$\n",
    "and a column vector ${\\bf y}^T=[y^{(1)},y^{(2)},\\dots,y^{(N')}]$ of labels for $X$.\n",
    "\n",
    "The output is $\\ell({\\bf w})$"
   ]
  },
  {
   "cell_type": "code",
   "execution_count": 1355,
   "metadata": {},
   "outputs": [],
   "source": [
    "# Write the log likelihood function \n",
    "def log_likelihood(X , y , w ):\n",
    "    pred_values = hypothesis(X,w)\n",
    "    m_1 = y*np.log(pred_values)\n",
    "    m_2 = 1-y\n",
    "    m_2 = (m_2)*np.log(1-pred_values)\n",
    "    output = np.sum(m_1+m_2)\n",
    "    return output\n",
    "\n",
    "\n",
    "#log_likelihood(X_train , y_train , w )"
   ]
  },
  {
   "cell_type": "markdown",
   "metadata": {},
   "source": [
    "# Gradient Ascent\n",
    "Now write the code to perform gradient ascent.  You will use the update rule from the lecture notes."
   ]
  },
  {
   "cell_type": "code",
   "execution_count": 1356,
   "metadata": {},
   "outputs": [],
   "source": [
    "# TODO - Write the gradient ascent function \n",
    "def Logistic_Regresion_Gradient_Ascent(X, y, learning_rate, num_iters):\n",
    "    # For every 100 iterations, store the log_likelihood for the current w\n",
    "    # Initializing log_likelihood to be an empty list  \n",
    "    log_likelihood_values = []\n",
    "    # Initialize w to be a zero vector of shape x_train.shape[1],1\n",
    "    w = np.zeros((X.shape[1],1))\n",
    "    # Initialize N to the number of training examples\n",
    "    n = X.shape[0]\n",
    "    \n",
    "    for i in range(num_iters):\n",
    "        pred_values = hypothesis(X,w)\n",
    "        gradient= np.dot(X.T, (pred_values - y)) \n",
    "        w = w - learning_rate*(1/n)*gradient\n",
    "        if (i%100==0):\n",
    "            log_likelihood_values.append(log_likelihood(X,y, w))\n",
    "            # update the w using formula \n",
    "            \n",
    "    return w, log_likelihood_values \n",
    "\n"
   ]
  },
  {
   "cell_type": "markdown",
   "metadata": {},
   "source": [
    "### After completing the code above, run the following"
   ]
  },
  {
   "cell_type": "code",
   "execution_count": 1357,
   "metadata": {},
   "outputs": [
    {
     "name": "stdout",
     "output_type": "stream",
     "text": [
      "[[-0.2286852 ]\n",
      " [ 0.14173602]\n",
      " [-0.28733452]\n",
      " [-0.0423142 ]\n",
      " [-0.3107993 ]\n",
      " [ 0.36042429]\n",
      " [ 2.30497808]\n",
      " [-1.72114613]\n",
      " [-1.84572172]\n",
      " [ 0.83546237]\n",
      " [-0.52596631]\n",
      " [-2.99995504]\n",
      " [ 0.79589595]\n",
      " [-2.03129351]\n",
      " [-2.3316597 ]\n",
      " [-0.84643462]\n",
      " [ 2.40832011]\n",
      " [ 0.96083314]\n",
      " [-1.60666361]\n",
      " [ 0.8479361 ]\n",
      " [ 0.87838155]\n",
      " [-1.30585183]\n",
      " [-2.41640251]\n",
      " [-1.17954109]\n",
      " [-1.71611221]\n",
      " [-0.28182275]\n",
      " [ 0.6703662 ]\n",
      " [-2.39218311]\n",
      " [-2.08097004]\n",
      " [-2.03984758]\n",
      " [-1.23865558]]\n",
      "[-97.32936809036504, -26.712852328348852, -23.42927707367933, -21.914244001022286, -20.969092764568558, -20.29288177752633, -19.76973974661386, -19.34366568431775, -18.983431357968534, -18.670102706294085, -18.391622302395035, -18.140021485540633, -17.909846557297104, -17.69723631453703, -17.499368775927266, -17.314121031433384, -17.13985424422321, -16.975273851305516, -16.819336158543518, -16.67118434196537, -16.530103575528127, -16.395488901722214, -16.26682178208344, -16.143652681804415, -16.02558792857809, -15.912279651848838, -15.803417977642049, -15.69872489922355, -15.597949409498082, -15.500863594908669, -15.407259470097667, -15.316946388952879, -15.229748908204073, -15.145505009300702, -15.064064606139787, -14.98528828253377, -14.909046215634584, -14.835217250927059, -14.763688101625466, -14.694352650893734, -14.627111339657448, -14.561870626175185, -14.498542506206483, -14.437044084718186, -14.37729719173543, -14.31922803626523, -14.262766893273616, -14.207847819539625, -14.154408394886591, -14.102389485837712]\n"
     ]
    }
   ],
   "source": [
    "# Set the learning_rate\n",
    "learning_rate = 0.5\n",
    "# Set the num_iters\n",
    "num_iters = 5000\n",
    "# Run the Logistic_Regresion_Gradient_Ascent() and store the returned values\n",
    "w, log_likelihood_values= Logistic_Regresion_Gradient_Ascent(X_train, y_train.reshape(y_train.shape[0],1), 0.5, 5000)\n",
    "print(w)\n",
    "print(log_likelihood_values)"
   ]
  },
  {
   "cell_type": "markdown",
   "metadata": {},
   "source": [
    "# Plotting Likelihood v/s Number of Iterations."
   ]
  },
  {
   "cell_type": "code",
   "execution_count": 1358,
   "metadata": {},
   "outputs": [
    {
     "data": {
      "image/png": "[encoded data removed]",
      "text/plain": [
       "<Figure size 432x288 with 1 Axes>"
      ]
     },
     "metadata": {
      "needs_background": "light"
     },
     "output_type": "display_data"
    }
   ],
   "source": [
    "# Run this cell to plot Likelihood v/s Number of Iterations.\n",
    "iters = np.array(range(0,5000,100))\n",
    "plt.plot(iters,log_likelihood_values,'.-',color='green')\n",
    "plt.xlabel('Number of iterations')\n",
    "plt.ylabel('Likelihood')\n",
    "plt.title(\"Likelihood vs Number of Iterations.\")\n",
    "plt.grid()"
   ]
  },
  {
   "cell_type": "markdown",
   "metadata": {},
   "source": [
    "#  Evaluating your model"
   ]
  },
  {
   "cell_type": "code",
   "execution_count": 1359,
   "metadata": {},
   "outputs": [
    {
     "name": "stdout",
     "output_type": "stream",
     "text": [
      "[[5.82838333e-01]\n",
      " [9.99954896e-01]\n",
      " [2.30673918e-21]\n",
      " [9.99999989e-01]\n",
      " [9.99999918e-01]\n",
      " [9.99879555e-01]\n",
      " [9.99933533e-01]\n",
      " [9.99998800e-01]\n",
      " [1.82375550e-09]\n",
      " [9.99984004e-01]\n",
      " [9.33084191e-01]\n",
      " [9.99997561e-01]\n",
      " [9.95855871e-01]\n",
      " [6.99209279e-15]\n",
      " [9.99753498e-01]\n",
      " [6.78109156e-01]\n",
      " [9.99985019e-01]\n",
      " [4.17201826e-16]\n",
      " [1.07604592e-01]\n",
      " [9.99979231e-01]\n",
      " [1.32341182e-06]\n",
      " [9.99993430e-01]\n",
      " [1.03116337e-02]\n",
      " [9.98797084e-01]\n",
      " [7.38784335e-14]\n",
      " [9.99923898e-01]\n",
      " [9.89795805e-01]\n",
      " [5.17332446e-25]\n",
      " [2.58280338e-01]\n",
      " [9.99979736e-01]\n",
      " [3.64852815e-17]\n",
      " [1.09875633e-14]\n",
      " [9.84458513e-01]\n",
      " [1.13743472e-06]\n",
      " [9.99990537e-01]\n",
      " [5.64936718e-08]\n",
      " [5.74358841e-04]\n",
      " [9.99999977e-01]\n",
      " [9.77114641e-01]\n",
      " [9.99973331e-01]\n",
      " [9.99974616e-01]\n",
      " [9.99994272e-01]\n",
      " [8.83566142e-01]\n",
      " [9.99024776e-01]\n",
      " [9.98134729e-01]\n",
      " [1.92251609e-17]\n",
      " [1.27107097e-16]\n",
      " [1.78349288e-05]\n",
      " [9.99999970e-01]\n",
      " [3.29741375e-02]\n",
      " [3.04539480e-06]\n",
      " [4.44175351e-15]\n",
      " [9.99999670e-01]\n",
      " [4.76286860e-06]\n",
      " [9.99987150e-01]\n",
      " [6.88283369e-04]\n",
      " [1.39320277e-13]\n",
      " [7.86039617e-01]\n",
      " [9.86397221e-01]\n",
      " [2.75751644e-07]\n",
      " [4.71330851e-03]\n",
      " [1.28381442e-05]\n",
      " [9.99961855e-01]\n",
      " [9.99999890e-01]\n",
      " [9.56182130e-01]\n",
      " [9.99999889e-01]\n",
      " [1.34507241e-01]\n",
      " [9.99896757e-01]\n",
      " [9.85166280e-01]\n",
      " [9.98657646e-01]\n",
      " [9.99912261e-01]\n",
      " [9.03692486e-01]\n",
      " [3.85733427e-09]\n",
      " [9.79777508e-10]\n",
      " [9.99999406e-01]\n",
      " [9.97477218e-01]\n",
      " [6.07943428e-06]\n",
      " [9.99995524e-01]\n",
      " [1.42946185e-13]\n",
      " [9.98367282e-01]\n",
      " [9.99797263e-01]\n",
      " [6.40635886e-12]\n",
      " [5.05774415e-01]\n",
      " [6.87943981e-01]\n",
      " [9.98861066e-01]\n",
      " [9.99999998e-01]\n",
      " [9.97594332e-01]\n",
      " [9.99980451e-01]\n",
      " [9.99473575e-01]\n",
      " [9.98950899e-01]\n",
      " [9.99997059e-01]\n",
      " [9.64840667e-01]\n",
      " [9.87742864e-10]\n",
      " [1.61758265e-10]\n",
      " [9.99996198e-01]\n",
      " [9.99990321e-01]\n",
      " [1.61459370e-22]\n",
      " [9.98089667e-01]\n",
      " [9.98317051e-01]\n",
      " [6.65193176e-01]\n",
      " [9.99998411e-01]\n",
      " [4.37921338e-22]\n",
      " [4.18049200e-01]\n",
      " [4.39345215e-07]\n",
      " [9.95643760e-01]\n",
      " [9.99993046e-01]\n",
      " [9.99999167e-01]\n",
      " [8.55328634e-16]\n",
      " [9.99992303e-01]\n",
      " [4.98877071e-40]\n",
      " [9.99681410e-01]\n",
      " [6.99718464e-06]\n",
      " [9.99998754e-01]\n",
      " [9.99610547e-01]\n",
      " [2.20460509e-11]\n",
      " [9.99893462e-01]\n",
      " [9.96586456e-01]\n",
      " [9.99829826e-01]\n",
      " [9.99992096e-01]\n",
      " [9.99952338e-01]\n",
      " [1.86755203e-18]\n",
      " [9.99463244e-01]\n",
      " [9.99992074e-01]\n",
      " [2.78156240e-08]\n",
      " [9.99982787e-01]\n",
      " [9.99985691e-01]\n",
      " [4.09722036e-05]\n",
      " [9.99990741e-01]\n",
      " [9.99998670e-01]\n",
      " [9.98164377e-01]\n",
      " [9.99964424e-01]\n",
      " [9.98765534e-01]\n",
      " [2.92774249e-03]\n",
      " [1.16240936e-01]\n",
      " [9.99998148e-01]\n",
      " [1.43284917e-06]\n",
      " [9.98379035e-01]\n",
      " [9.99999868e-01]\n",
      " [9.99471673e-01]\n",
      " [9.52954673e-01]\n",
      " [9.99888846e-01]\n",
      " [9.99999543e-01]\n",
      " [3.40854663e-11]]\n"
     ]
    }
   ],
   "source": [
    "# use hypothesis(...) to predict.\n",
    "test_set_predictions = hypothesis(X_test , w)\n",
    "print(test_set_predictions)"
   ]
  },
  {
   "cell_type": "code",
   "execution_count": 1360,
   "metadata": {},
   "outputs": [
    {
     "name": "stdout",
     "output_type": "stream",
     "text": [
      "Precision:  0.946236559139785\n",
      "Recall:  0.9887640449438202\n",
      "F1:  0.967032967032967\n",
      "Confusion Matrix: \n",
      "TP:  88  FN:  1  FP:  5  TN:  49\n"
     ]
    },
    {
     "data": {
      "text/plain": [
       "2.902033571116572"
      ]
     },
     "execution_count": 1360,
     "metadata": {},
     "output_type": "execute_result"
    }
   ],
   "source": [
    "#converting predictions to 0's and 1's so that performance can be evaluated\n",
    "def Evaluate_Model(predictions,y_values):\n",
    "    predictions[predictions > 0.5] = 1\n",
    "    predictions[predictions < 0.5] = 0\n",
    "\n",
    "    TP=0\n",
    "    FP=0\n",
    "    FN=0\n",
    "    TN=0\n",
    "\n",
    "    # count TP,FP,FN,FP\n",
    "\n",
    "    for i in range(y_test.shape[0]):\n",
    "        if (y_values[i] == 0 and predictions [i] == 0):\n",
    "            TN+=1\n",
    "        elif (y_values[i] == 1 and predictions[i] == 1):\n",
    "            TP+=1\n",
    "        elif (y_values[i] == 1 and predictions[i] == 0):\n",
    "            FN+=1\n",
    "        elif (y_values[i] == 0 and predictions[i] == 1):\n",
    "            FP+=1\n",
    "\n",
    "    # calculate precision, recall and f1\n",
    "    precision = TP/(TP+FP)\n",
    "    recall = TP/(TP+FN)\n",
    "    f1 = (2* (precision*recall))/(precision+recall)\n",
    "    total = precision+recall+f1\n",
    "\n",
    "    print(\"Precision: \",precision)\n",
    "    print(\"Recall: \",recall)\n",
    "    print(\"F1: \",f1)\n",
    "    print(\"Confusion Matrix: \")\n",
    "    print(\"TP: \",TP,\" FN: \",FN,\" FP: \",FP,\" TN: \",TN)\n",
    "    \n",
    "    return total\n",
    "    \n",
    "Evaluate_Model(test_set_predictions, y_test)"
   ]
  },
  {
   "cell_type": "code",
   "execution_count": 1361,
   "metadata": {},
   "outputs": [
    {
     "name": "stdout",
     "output_type": "stream",
     "text": [
      "--------------------Learning Rate = 0.5--------------------\n",
      "Precision:  0.946236559139785\n",
      "Recall:  0.9887640449438202\n",
      "F1:  0.967032967032967\n",
      "Confusion Matrix: \n",
      "TP:  88  FN:  1  FP:  5  TN:  49\n",
      "--------------------Learning Rate = 1--------------------\n",
      "Precision:  0.9456521739130435\n",
      "Recall:  0.9775280898876404\n",
      "F1:  0.9613259668508287\n",
      "Confusion Matrix: \n",
      "TP:  87  FN:  2  FP:  5  TN:  49\n"
     ]
    },
    {
     "name": "stderr",
     "output_type": "stream",
     "text": [
      "/opt/anaconda3/lib/python3.7/site-packages/ipykernel_launcher.py:6: RuntimeWarning: divide by zero encountered in log\n",
      "  \n",
      "/opt/anaconda3/lib/python3.7/site-packages/ipykernel_launcher.py:6: RuntimeWarning: invalid value encountered in multiply\n",
      "  \n"
     ]
    },
    {
     "name": "stdout",
     "output_type": "stream",
     "text": [
      "--------------------Learning Rate = 1.5--------------------\n",
      "Precision:  0.9560439560439561\n",
      "Recall:  0.9775280898876404\n",
      "F1:  0.9666666666666667\n",
      "Confusion Matrix: \n",
      "TP:  87  FN:  2  FP:  4  TN:  50\n",
      "--------------------Learning Rate = 2--------------------\n",
      "Precision:  0.9555555555555556\n",
      "Recall:  0.9662921348314607\n",
      "F1:  0.9608938547486034\n",
      "Confusion Matrix: \n",
      "TP:  86  FN:  3  FP:  4  TN:  50\n",
      "--------------------Learning Rate = 2.5--------------------\n",
      "Precision:  0.9555555555555556\n",
      "Recall:  0.9662921348314607\n",
      "F1:  0.9608938547486034\n",
      "Confusion Matrix: \n",
      "TP:  86  FN:  3  FP:  4  TN:  50\n",
      "--------------------Learning Rate = 3--------------------\n",
      "Precision:  0.9555555555555556\n",
      "Recall:  0.9662921348314607\n",
      "F1:  0.9608938547486034\n",
      "Confusion Matrix: \n",
      "TP:  86  FN:  3  FP:  4  TN:  50\n",
      "--------------------Learning Rate = 3.5--------------------\n",
      "Precision:  0.9555555555555556\n",
      "Recall:  0.9662921348314607\n",
      "F1:  0.9608938547486034\n",
      "Confusion Matrix: \n",
      "TP:  86  FN:  3  FP:  4  TN:  50\n"
     ]
    }
   ],
   "source": [
    "#hyper-parameter tuning for learning rate  \n",
    "learning_rate_trial_list = [0.5, 1,1.5,2,2.5,3,3.5]\n",
    "\n",
    "for i in learning_rate_trial_list:\n",
    "    w, log_likelihood_values= Logistic_Regresion_Gradient_Ascent(X_train, y_train.reshape(y_train.shape[0],1), i, 5000)\n",
    "    test_set_predictions = hypothesis(X_test , w)\n",
    "    print(\"-\"*20 +  \"Learning Rate = \"+ str(i) + \"-\"*20)\n",
    "    Evaluate_Model(test_set_predictions, y_test)\n",
    "\n"
   ]
  },
  {
   "cell_type": "code",
   "execution_count": 1362,
   "metadata": {},
   "outputs": [
    {
     "name": "stdout",
     "output_type": "stream",
     "text": [
      "--------------------Number of Iterations = 5000--------------------\n",
      "Precision:  0.946236559139785\n",
      "Recall:  0.9887640449438202\n",
      "F1:  0.967032967032967\n",
      "Confusion Matrix: \n",
      "TP:  88  FN:  1  FP:  5  TN:  49\n",
      "--------------------Number of Iterations = 10000--------------------\n",
      "Precision:  0.9456521739130435\n",
      "Recall:  0.9775280898876404\n",
      "F1:  0.9613259668508287\n",
      "Confusion Matrix: \n",
      "TP:  87  FN:  2  FP:  5  TN:  49\n"
     ]
    },
    {
     "name": "stderr",
     "output_type": "stream",
     "text": [
      "/opt/anaconda3/lib/python3.7/site-packages/ipykernel_launcher.py:6: RuntimeWarning: divide by zero encountered in log\n",
      "  \n",
      "/opt/anaconda3/lib/python3.7/site-packages/ipykernel_launcher.py:6: RuntimeWarning: invalid value encountered in multiply\n",
      "  \n"
     ]
    },
    {
     "name": "stdout",
     "output_type": "stream",
     "text": [
      "--------------------Number of Iterations = 15000--------------------\n",
      "Precision:  0.9560439560439561\n",
      "Recall:  0.9775280898876404\n",
      "F1:  0.9666666666666667\n",
      "Confusion Matrix: \n",
      "TP:  87  FN:  2  FP:  4  TN:  50\n",
      "--------------------Number of Iterations = 20000--------------------\n",
      "Precision:  0.9555555555555556\n",
      "Recall:  0.9662921348314607\n",
      "F1:  0.9608938547486034\n",
      "Confusion Matrix: \n",
      "TP:  86  FN:  3  FP:  4  TN:  50\n",
      "--------------------Number of Iterations = 25000--------------------\n",
      "Precision:  0.9555555555555556\n",
      "Recall:  0.9662921348314607\n",
      "F1:  0.9608938547486034\n",
      "Confusion Matrix: \n",
      "TP:  86  FN:  3  FP:  4  TN:  50\n",
      "--------------------Number of Iterations = 30000--------------------\n",
      "Precision:  0.9555555555555556\n",
      "Recall:  0.9662921348314607\n",
      "F1:  0.9608938547486034\n",
      "Confusion Matrix: \n",
      "TP:  86  FN:  3  FP:  4  TN:  50\n",
      "--------------------Number of Iterations = 35000--------------------\n",
      "Precision:  0.9555555555555556\n",
      "Recall:  0.9662921348314607\n",
      "F1:  0.9608938547486034\n",
      "Confusion Matrix: \n",
      "TP:  86  FN:  3  FP:  4  TN:  50\n"
     ]
    }
   ],
   "source": [
    "num_its_trial_list = [5000,10000,15000,20000,25000,30000,35000]\n",
    "\n",
    "for i in num_its_trial_list:\n",
    "    w, log_likelihood_values= Logistic_Regresion_Gradient_Ascent(X_train, y_train.reshape(y_train.shape[0],1), 0.5, i)\n",
    "    test_set_predictions = hypothesis(X_test , w)\n",
    "    print(\"-\"*20 +  \"Number of Iterations = \"+ str(i) + \"-\"*20)\n",
    "    Evaluate_Model(test_set_predictions, y_test)\n"
   ]
  },
  {
   "cell_type": "markdown",
   "metadata": {},
   "source": [
    "The results I have got seem very interesting. When I increase the learning rate the perfomance metrics start falling \n",
    "and the model becomes increasingly more inaccurate. From the above, it seems 0.5 is the best learning rate. This\n",
    "may be the case that when I increase the learning rate, the gradient ascent jumps past the minimum point whereas\n",
    "with a smaller learning rate it more closely gets to the mininimum loss function value. \n",
    "\n",
    "With regards to the number of iterations. This is actually quite suprising. When I increase the number of iterations\n",
    "the perfomance metrics start falling and the model becomes increasingly more inaccurate. Usually one expect the \n",
    "accuracy to increase, but apparently when the number of iterations is too much overfitting might happen.\n",
    "\n",
    "Therefore, from the results above and after my tuning the best parameters seem to be Learning Rate=0.5 and number \n",
    "of iterations = 5000"
   ]
  },
  {
   "cell_type": "code",
   "execution_count": null,
   "metadata": {},
   "outputs": [],
   "source": []
  }
 ],
 "metadata": {
  "kernelspec": {
   "display_name": "Python 3",
   "language": "python",
   "name": "python3"
  },
  "language_info": {
   "codemirror_mode": {
    "name": "ipython",
    "version": 3
   },
   "file_extension": ".py",
   "mimetype": "text/x-python",
   "name": "python",
   "nbconvert_exporter": "python",
   "pygments_lexer": "ipython3",
   "version": "3.7.6"
  }
 },
 "nbformat": 4,
 "nbformat_minor": 2
}
